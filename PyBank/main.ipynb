{
 "cells": [
  {
   "cell_type": "code",
   "execution_count": 1,
   "metadata": {},
   "outputs": [],
   "source": [
    "from pathlib import Path\n",
    "import csv"
   ]
  },
  {
   "cell_type": "markdown",
   "metadata": {},
   "source": [
    "# Reading File \n",
    "    - store months in months_list\n",
    "    - store profit/losses in profit_losses"
   ]
  },
  {
   "cell_type": "code",
   "execution_count": 2,
   "metadata": {},
   "outputs": [],
   "source": [
    "csvpath = Path('Resources/budget_data.csv')\n",
    "\n",
    "months_list = []\n",
    "profit_losses = []\n",
    "\n",
    "\n",
    "with open(csvpath) as csvfile:\n",
    "    reader = csv.reader(csvfile, delimiter=',')\n",
    "    next(reader)\n",
    "\n",
    "    total = 0\n",
    "    for row in reader:\n",
    "        total += int(row[1])\n",
    " \n",
    "        months_list.append(row[0])\n",
    "        profit_losses.append(int(row[1]))\n",
    "\n",
    "        \n",
    "    \n",
    "\n"
   ]
  },
  {
   "cell_type": "markdown",
   "metadata": {},
   "source": [
    "# Compute Difference (Avg, Min, Max)\n",
    "    - Starting from second month, compute difference = current month (minus) previous month\n",
    "    - Compute Max and Min differences, store indices"
   ]
  },
  {
   "cell_type": "code",
   "execution_count": 3,
   "metadata": {},
   "outputs": [],
   "source": [
    "total_chanegs = 0 \n",
    "max_diff = profit_losses[1] - profit_losses[0]\n",
    "min_diff = profit_losses[1] - profit_losses[0]\n",
    "max_i = 0\n",
    "min_i = 0\n",
    "\n",
    "for i in range (len(profit_losses)-1):\n",
    "    # diff = current month - previous month\n",
    "    diff = profit_losses[i+1] - profit_losses[i]\n",
    "  \n",
    "    if diff > max_diff:\n",
    "        max_diff = diff\n",
    "        max_i = i\n",
    "        \n",
    "    if diff < min_diff:\n",
    "        min_diff = diff\n",
    "        min_i = i\n",
    "    \n",
    "    total_chanegs += diff\n",
    "avg_changes = total_chanegs/(len(months_list)-1)\n",
    "\n",
    "    "
   ]
  },
  {
   "cell_type": "markdown",
   "metadata": {},
   "source": [
    "## Compute Average Changes\n",
    "= total changes / n-1\n",
    "\n",
    "where, n = number of months"
   ]
  },
  {
   "cell_type": "code",
   "execution_count": 4,
   "metadata": {},
   "outputs": [],
   "source": [
    "avg_changes = total_chanegs/(len(months_list)-1)\n",
    "avg_changes = round(avg_changes,2)"
   ]
  },
  {
   "cell_type": "markdown",
   "metadata": {},
   "source": [
    "# Resulting Analysis"
   ]
  },
  {
   "cell_type": "code",
   "execution_count": 6,
   "metadata": {},
   "outputs": [
    {
     "name": "stdout",
     "output_type": "stream",
     "text": [
      "Financial Analysis\n",
      "----------------------------\n",
      "Total Months: 86\n",
      "Total: $38382578\n",
      "Average  Change: $-2315.12\n",
      "Greatest Increase in Profits: Feb-2012 ($1926159)\n",
      "Greatest Decrease in Profits: Sep-2013 ($-2196167)\n"
     ]
    }
   ],
   "source": [
    "print('Financial Analysis')\n",
    "print('----------------------------')\n",
    "print(f'Total Months: {len(months_list)}')\n",
    "print(f'Total: ${total}')\n",
    "print(f'Average  Change: ${avg_changes}')\n",
    "print(f'Greatest Increase in Profits: {months_list[max_i+1]} (${max_diff})')\n",
    "print(f'Greatest Decrease in Profits: {months_list[min_i+1]} (${min_diff})')"
   ]
  }
 ],
 "metadata": {
  "kernelspec": {
   "display_name": "Python 3",
   "language": "python",
   "name": "python3"
  },
  "language_info": {
   "codemirror_mode": {
    "name": "ipython",
    "version": 3
   },
   "file_extension": ".py",
   "mimetype": "text/x-python",
   "name": "python",
   "nbconvert_exporter": "python",
   "pygments_lexer": "ipython3",
   "version": "3.7.6"
  }
 },
 "nbformat": 4,
 "nbformat_minor": 4
}
